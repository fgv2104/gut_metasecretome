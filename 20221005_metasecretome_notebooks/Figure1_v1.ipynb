{
 "cells": [
  {
   "cell_type": "code",
   "execution_count": 22,
   "metadata": {},
   "outputs": [],
   "source": [
    "import pandas as pd\n",
    "import numpy as np\n",
    "import matplotlib.pyplot as plt\n",
    "from Bio import SeqIO\n",
    "from Bio import SeqUtils\n",
    "import os\n",
    "import matplotlib.patches as mpatches\n",
    "import seaborn as sns\n",
    "from sys import getsizeof\n",
    "import math\n",
    "import scipy.spatial as sp, scipy.cluster.hierarchy as hc\n",
    "import scipy.constants\n",
    "from matplotlib import ticker as mticker\n",
    "import pickle\n",
    "from multiprocessing import Pool\n",
    "import scipy.stats as stats\n",
    "from Bio.SeqUtils.ProtParam import ProteinAnalysis\n",
    "from Bio.SeqUtils import GC"
   ]
  },
  {
   "cell_type": "code",
   "execution_count": 4,
   "metadata": {},
   "outputs": [],
   "source": [
    "def get_phylum(tax):\n",
    "    if len(tax.split(';')) > 1:\n",
    "        phylum = tax.split(';')[1].replace('p__','')\n",
    "    else:\n",
    "        phylum = 'NA'\n",
    "    return(phylum)"
   ]
  },
  {
   "cell_type": "code",
   "execution_count": 2,
   "metadata": {},
   "outputs": [
    {
     "name": "stdout",
     "output_type": "stream",
     "text": [
      "download: s3://florencia-velez/working/20190504_HGM_prodigal/IGG_species_info_23790.tsv to ../20190504_HGM_prodigal/IGG_species_info_23790.tsv\n",
      "download: s3://florencia-velez/working/20190504_HGM_prodigal/IGG_genome_info_206581.tsv to ../20190504_HGM_prodigal/IGG_genome_info_206581.tsv\n"
     ]
    }
   ],
   "source": [
    "#! aws s3 cp s3://florencia-velez/working/\n",
    "#! aws s3 cp s3://florencia-velez/working/20210519_signalp_analysis/ipynb_out/noTM_nolipo_sec_orfids.txt /home/ec2-user/20210519_signalp_analysis/ipynb_out/noTM_nolipo_sec_orfids.txt\n",
    "#! aws s3 cp s3://florencia-velez/working/20210519_signalp_analysis/ipynb_out/notsecreted_orfids.txt /home/ec2-user/20210519_signalp_analysis/ipynb_out/notsecreted_orfids.txt\n",
    "! aws s3 cp s3://florencia-velez/working/20190504_HGM_prodigal/IGG_species_info_23790.tsv    /home/ec2-user/20190504_HGM_prodigal/IGG_species_info_23790.tsv\n",
    "! aws s3 cp s3://florencia-velez/working/20190504_HGM_prodigal/IGG_genome_info_206581.tsv    /home/ec2-user/20190504_HGM_prodigal/IGG_genome_info_206581.tsv\n",
    "#! aws s3 cp s3://florencia-velez/working/20200610_metasecretome_figures/ipynb_out/HGM_largecluster_orfs_df.tsv    /home/ec2-user/20200610_metasecretome_figures/ipynb_out/HGM_largecluster_orfs_df.tsv\n",
    "#! aws s3 cp s3://florencia-velez/working/20210602_metasecretome_figures/ipynb_out/HGM_all_genes_lengths.tsv    ipynb_out/HGM_all_genes_lengths.tsv\n",
    "#! aws s3 cp s3://florencia-velez/working/20210602_metasecretome_figures/ipynb_out/HGM_master_sec_nonsec.tsv /home/ec2-user/20210602_metasecretome_figures/ipynb_out/HGM_master_sec_nonsec.tsv"
   ]
  },
  {
   "cell_type": "code",
   "execution_count": 5,
   "metadata": {},
   "outputs": [
    {
     "name": "stderr",
     "output_type": "stream",
     "text": [
      "/home/ec2-user/bin/anaconda3/lib/python3.7/site-packages/IPython/core/interactiveshell.py:3049: DtypeWarning: Columns (0,4) have mixed types. Specify dtype option on import or set low_memory=False.\n",
      "  interactivity=interactivity, compiler=compiler, result=result)\n"
     ]
    }
   ],
   "source": [
    "# Generate high-quality figure\n",
    "#Import metadata for HGM MAGs\n",
    "HGM_species = pd.read_csv('/home/ec2-user/20190504_HGM_prodigal/IGG_species_info_23790.tsv', sep='\\t')\n",
    "HGM_genomes = pd.read_csv('/home/ec2-user/20190504_HGM_prodigal/IGG_genome_info_206581.tsv', sep='\\t')\n",
    "HGM_taxinfo = HGM_genomes.set_index('genome_id').join(HGM_species.set_index('species_id'), 'species_id')\n",
    "HGM_taxinfo['phylum'] = [get_phylum(tax) for tax in HGM_taxinfo['gtdb_taxonomy']]\n",
    "\n",
    "HGM_species_hqHGM_species = HGM_genomes[(HGM_genomes['repository'] == 'HGM') & (HGM_genomes['quality_level'] == 'high')]['species_id'].tolist()\n",
    "\n",
    "HGM_species_hqHGM = HGM_species[HGM_species['species_id'].isin(HGM_species_hqHGM_species)]\n",
    "# Run this so we can get violinplot version\n",
    "\n",
    "#Limit analysis to bacteria only\n",
    "bacphy = []\n",
    "for tax in HGM_species['gtdb_taxonomy']:\n",
    "    if tax.split(';')[0].replace('d__','') == 'Bacteria' and len(tax.split(';')) > 1:\n",
    "        bacphy.append(tax.split(';')[1].replace('p__',''))\n",
    "\n",
    "#ORFids that fall under secreted and non secreted categories as we have newly defined them\n",
    "#We have excluded MAGs that have < 481 ORFs\n",
    "#Secreted must have no TM and not be classified as lipoprotein by signalp\n",
    "#noTM_nolipo_sec_orfids = pd.read_csv('~/20210519_signalp_analysis/ipynb_out/noTM_nolipo_sec_orfids.txt', header=None)[0].tolist()\n",
    "#notsecreted_orfids = pd.read_csv('~/20210519_signalp_analysis/ipynb_out/notsecreted_orfids.txt', header=None)[0].tolist()\n",
    "\n",
    "#Import dataframe with all ORFs that are in large clusters in HGM\n",
    "HGM_largecluster_orfs_df = pd.read_csv('~/20221005_metasecretome_notebooks/ipynb_out/HGM_largecluster_orfs_secpred.tsv',sep='\\t')\n"
   ]
  },
  {
   "cell_type": "code",
   "execution_count": 8,
   "metadata": {},
   "outputs": [
    {
     "name": "stdout",
     "output_type": "stream",
     "text": [
      "1903\n"
     ]
    }
   ],
   "source": [
    "os.listdir(\"/home/ec2-user/20220906_HGM_prodigal/prodigal_output_HGM/faa_output/\")\n",
    "with open(\"/home/ec2-user/20220906_HGM_prodigal/prodigal_output_HGM/faa_output/ERS235496_24.faa\") as handle:\n",
    "    recs = SeqIO.to_dict(SeqIO.parse(handle, 'fasta'))\n",
    "    print(len(recs.keys()))"
   ]
  },
  {
   "cell_type": "code",
   "execution_count": 60,
   "metadata": {},
   "outputs": [],
   "source": [
    "#Select MAGs that have at least 481 ORFs\n",
    "mag_size_dict = dict()\n",
    "faa_path = \"/home/ec2-user/20220906_HGM_prodigal/prodigal_output_HGM/faa_output/\"\n",
    "for mag_faa in os.listdir(faa_path)[:3]:\n",
    "    with open(faa_path + mag_faa) as handle:\n",
    "        recs = SeqIO.to_dict(SeqIO.parse(handle, 'fasta'))\n",
    "        mag_size_dict[mag_faa.replace('.faa','')] = len(recs.keys())\n",
    "        "
   ]
  },
  {
   "cell_type": "code",
   "execution_count": 16,
   "metadata": {},
   "outputs": [
    {
     "data": {
      "text/plain": [
       "(array([6.000e+00, 5.000e+00, 4.000e+00, 1.000e+00, 8.000e+00, 1.500e+01,\n",
       "        3.100e+01, 4.400e+01, 5.900e+01, 8.900e+01, 1.020e+02, 1.000e+02,\n",
       "        1.320e+02, 2.050e+02, 3.540e+02, 5.810e+02, 7.480e+02, 9.430e+02,\n",
       "        1.047e+03, 1.055e+03, 1.140e+03, 1.108e+03, 1.051e+03, 1.082e+03,\n",
       "        1.068e+03, 1.142e+03, 1.086e+03, 1.011e+03, 9.510e+02, 8.350e+02,\n",
       "        6.770e+02, 5.410e+02, 4.700e+02, 3.840e+02, 3.470e+02, 3.100e+02,\n",
       "        3.250e+02, 2.520e+02, 2.710e+02, 2.090e+02, 2.300e+02, 1.990e+02,\n",
       "        1.780e+02, 1.660e+02, 1.390e+02, 1.250e+02, 1.420e+02, 1.610e+02,\n",
       "        1.750e+02, 1.560e+02, 1.560e+02, 1.550e+02, 1.520e+02, 1.660e+02,\n",
       "        1.420e+02, 1.250e+02, 1.170e+02, 9.900e+01, 1.170e+02, 1.390e+02,\n",
       "        1.280e+02, 1.580e+02, 1.230e+02, 1.180e+02, 1.060e+02, 7.700e+01,\n",
       "        8.100e+01, 7.500e+01, 5.300e+01, 7.600e+01, 5.700e+01, 5.700e+01,\n",
       "        7.000e+01, 4.000e+01, 3.400e+01, 2.700e+01, 2.800e+01, 2.800e+01,\n",
       "        1.800e+01, 1.600e+01, 2.300e+01, 1.400e+01, 1.100e+01, 1.000e+01,\n",
       "        6.000e+00, 1.300e+01, 7.000e+00, 4.000e+00, 5.000e+00, 4.000e+00,\n",
       "        4.000e+00, 4.000e+00, 9.000e+00, 8.000e+00, 7.000e+00, 8.000e+00,\n",
       "        6.000e+00, 3.000e+00, 0.000e+00, 1.000e+00]),\n",
       " array([ 794.  ,  851.34,  908.68,  966.02, 1023.36, 1080.7 , 1138.04,\n",
       "        1195.38, 1252.72, 1310.06, 1367.4 , 1424.74, 1482.08, 1539.42,\n",
       "        1596.76, 1654.1 , 1711.44, 1768.78, 1826.12, 1883.46, 1940.8 ,\n",
       "        1998.14, 2055.48, 2112.82, 2170.16, 2227.5 , 2284.84, 2342.18,\n",
       "        2399.52, 2456.86, 2514.2 , 2571.54, 2628.88, 2686.22, 2743.56,\n",
       "        2800.9 , 2858.24, 2915.58, 2972.92, 3030.26, 3087.6 , 3144.94,\n",
       "        3202.28, 3259.62, 3316.96, 3374.3 , 3431.64, 3488.98, 3546.32,\n",
       "        3603.66, 3661.  , 3718.34, 3775.68, 3833.02, 3890.36, 3947.7 ,\n",
       "        4005.04, 4062.38, 4119.72, 4177.06, 4234.4 , 4291.74, 4349.08,\n",
       "        4406.42, 4463.76, 4521.1 , 4578.44, 4635.78, 4693.12, 4750.46,\n",
       "        4807.8 , 4865.14, 4922.48, 4979.82, 5037.16, 5094.5 , 5151.84,\n",
       "        5209.18, 5266.52, 5323.86, 5381.2 , 5438.54, 5495.88, 5553.22,\n",
       "        5610.56, 5667.9 , 5725.24, 5782.58, 5839.92, 5897.26, 5954.6 ,\n",
       "        6011.94, 6069.28, 6126.62, 6183.96, 6241.3 , 6298.64, 6355.98,\n",
       "        6413.32, 6470.66, 6528.  ]),\n",
       " <a list of 100 Patch objects>)"
      ]
     },
     "execution_count": 16,
     "metadata": {},
     "output_type": "execute_result"
    },
    {
     "data": {
      "image/png": "[encoded data removed]",
      "text/plain": [
       "<Figure size 432x288 with 1 Axes>"
      ]
     },
     "metadata": {
      "needs_background": "light"
     },
     "output_type": "display_data"
    }
   ],
   "source": [
    "plt.hist(pd.Series(mag_size_dict), bins=100)"
   ]
  },
  {
   "cell_type": "code",
   "execution_count": 22,
   "metadata": {},
   "outputs": [
    {
     "data": {
      "text/plain": [
       "(1627958,)"
      ]
     },
     "execution_count": 22,
     "metadata": {},
     "output_type": "execute_result"
    }
   ],
   "source": [
    "HGM_largecluster_orfs_df[HGM_largecluster_orfs_df['secreted'] == 'yes'].orfid.unique().shape"
   ]
  },
  {
   "cell_type": "code",
   "execution_count": 4,
   "metadata": {},
   "outputs": [
    {
     "data": {
      "text/plain": [
       "(53607501,)"
      ]
     },
     "execution_count": 4,
     "metadata": {},
     "output_type": "execute_result"
    }
   ],
   "source": [
    "HGM_largecluster_orfs_df.orfid.unique().shape"
   ]
  },
  {
   "cell_type": "code",
   "execution_count": 43,
   "metadata": {},
   "outputs": [],
   "source": [
    "HGM_largecluster_orfs_tax_df = HGM_largecluster_orfs_df.set_index('genomeid').join(HGM_taxinfo['phylum']).reset_index().rename(columns={\"index\": \"genomeid\"})"
   ]
  },
  {
   "cell_type": "code",
   "execution_count": 44,
   "metadata": {},
   "outputs": [
    {
     "data": {
      "text/html": [
       "<div>\n",
       "<style scoped>\n",
       "    .dataframe tbody tr th:only-of-type {\n",
       "        vertical-align: middle;\n",
       "    }\n",
       "\n",
       "    .dataframe tbody tr th {\n",
       "        vertical-align: top;\n",
       "    }\n",
       "\n",
       "    .dataframe thead th {\n",
       "        text-align: right;\n",
       "    }\n",
       "</style>\n",
       "<table border=\"1\" class=\"dataframe\">\n",
       "  <thead>\n",
       "    <tr style=\"text-align: right;\">\n",
       "      <th></th>\n",
       "      <th>genomeid</th>\n",
       "      <th>orfid</th>\n",
       "      <th>clusterid</th>\n",
       "      <th>secreted</th>\n",
       "      <th>Prediction</th>\n",
       "      <th>phylum</th>\n",
       "    </tr>\n",
       "  </thead>\n",
       "  <tbody>\n",
       "    <tr>\n",
       "      <th>0</th>\n",
       "      <td>ERS235496_24</td>\n",
       "      <td>ERS235496_24_k99_12476_24</td>\n",
       "      <td>clusters0</td>\n",
       "      <td>no</td>\n",
       "      <td>Not_secreted</td>\n",
       "      <td>Firmicutes</td>\n",
       "    </tr>\n",
       "    <tr>\n",
       "      <th>1</th>\n",
       "      <td>ERS235496_24</td>\n",
       "      <td>ERS235496_24_k99_45601_35</td>\n",
       "      <td>clusters2</td>\n",
       "      <td>no</td>\n",
       "      <td>Not_secreted</td>\n",
       "      <td>Firmicutes</td>\n",
       "    </tr>\n",
       "    <tr>\n",
       "      <th>2</th>\n",
       "      <td>ERS235496_24</td>\n",
       "      <td>ERS235496_24_k99_36782_92</td>\n",
       "      <td>clusters3</td>\n",
       "      <td>no</td>\n",
       "      <td>Not_secreted</td>\n",
       "      <td>Firmicutes</td>\n",
       "    </tr>\n",
       "    <tr>\n",
       "      <th>3</th>\n",
       "      <td>ERS235496_24</td>\n",
       "      <td>ERS235496_24_k99_36782_111</td>\n",
       "      <td>clusters4</td>\n",
       "      <td>no</td>\n",
       "      <td>Not_secreted</td>\n",
       "      <td>Firmicutes</td>\n",
       "    </tr>\n",
       "  </tbody>\n",
       "</table>\n",
       "</div>"
      ],
      "text/plain": [
       "       genomeid                       orfid  clusterid secreted    Prediction  \\\n",
       "0  ERS235496_24   ERS235496_24_k99_12476_24  clusters0       no  Not_secreted   \n",
       "1  ERS235496_24   ERS235496_24_k99_45601_35  clusters2       no  Not_secreted   \n",
       "2  ERS235496_24   ERS235496_24_k99_36782_92  clusters3       no  Not_secreted   \n",
       "3  ERS235496_24  ERS235496_24_k99_36782_111  clusters4       no  Not_secreted   \n",
       "\n",
       "       phylum  \n",
       "0  Firmicutes  \n",
       "1  Firmicutes  \n",
       "2  Firmicutes  \n",
       "3  Firmicutes  "
      ]
     },
     "execution_count": 44,
     "metadata": {},
     "output_type": "execute_result"
    }
   ],
   "source": [
    "HGM_largecluster_orfs_tax_df[:4]"
   ]
  },
  {
   "cell_type": "code",
   "execution_count": 21,
   "metadata": {},
   "outputs": [
    {
     "data": {
      "text/html": [
       "<div>\n",
       "<style scoped>\n",
       "    .dataframe tbody tr th:only-of-type {\n",
       "        vertical-align: middle;\n",
       "    }\n",
       "\n",
       "    .dataframe tbody tr th {\n",
       "        vertical-align: top;\n",
       "    }\n",
       "\n",
       "    .dataframe thead th {\n",
       "        text-align: right;\n",
       "    }\n",
       "</style>\n",
       "<table border=\"1\" class=\"dataframe\">\n",
       "  <thead>\n",
       "    <tr style=\"text-align: right;\">\n",
       "      <th></th>\n",
       "      <th>orfid</th>\n",
       "      <th>clusterid</th>\n",
       "      <th>genomeid</th>\n",
       "      <th>secreted</th>\n",
       "      <th>Prediction</th>\n",
       "    </tr>\n",
       "  </thead>\n",
       "  <tbody>\n",
       "    <tr>\n",
       "      <th>0</th>\n",
       "      <td>ERS235496_24_k99_12476_24</td>\n",
       "      <td>clusters0</td>\n",
       "      <td>ERS235496_24</td>\n",
       "      <td>no</td>\n",
       "      <td>Not_secreted</td>\n",
       "    </tr>\n",
       "    <tr>\n",
       "      <th>1</th>\n",
       "      <td>ERS235501_56_k99_98957_2</td>\n",
       "      <td>clusters0</td>\n",
       "      <td>ERS235501_56</td>\n",
       "      <td>no</td>\n",
       "      <td>Not_secreted</td>\n",
       "    </tr>\n",
       "    <tr>\n",
       "      <th>2</th>\n",
       "      <td>ERS235504_6_k99_4431_112</td>\n",
       "      <td>clusters0</td>\n",
       "      <td>ERS235504_6</td>\n",
       "      <td>no</td>\n",
       "      <td>Not_secreted</td>\n",
       "    </tr>\n",
       "    <tr>\n",
       "      <th>3</th>\n",
       "      <td>ERS235508_18_k99_12042_6</td>\n",
       "      <td>clusters0</td>\n",
       "      <td>ERS235508_18</td>\n",
       "      <td>no</td>\n",
       "      <td>Not_secreted</td>\n",
       "    </tr>\n",
       "  </tbody>\n",
       "</table>\n",
       "</div>"
      ],
      "text/plain": [
       "                       orfid  clusterid      genomeid secreted    Prediction\n",
       "0  ERS235496_24_k99_12476_24  clusters0  ERS235496_24       no  Not_secreted\n",
       "1   ERS235501_56_k99_98957_2  clusters0  ERS235501_56       no  Not_secreted\n",
       "2   ERS235504_6_k99_4431_112  clusters0   ERS235504_6       no  Not_secreted\n",
       "3   ERS235508_18_k99_12042_6  clusters0  ERS235508_18       no  Not_secreted"
      ]
     },
     "execution_count": 21,
     "metadata": {},
     "output_type": "execute_result"
    }
   ],
   "source": [
    "#Require number of large cluster orfs to be at least 481 so we have a large enough sample to make sure proportion\n",
    "#of proteome secreted isnt skewed by sampling size\n",
    "passing_mags = []\n",
    "grouped = HGM_largecluster_orfs_df.groupby('genomeid')\n",
    "for name, group in grouped:\n",
    "    if len(group.orfid.unique().tolist()) >= 481:\n",
    "        passing_mags.append(name)"
   ]
  },
  {
   "cell_type": "code",
   "execution_count": 7,
   "metadata": {},
   "outputs": [
    {
     "data": {
      "text/plain": [
       "23460"
      ]
     },
     "execution_count": 7,
     "metadata": {},
     "output_type": "execute_result"
    }
   ],
   "source": [
    "len(passing_mags)"
   ]
  },
  {
   "cell_type": "code",
   "execution_count": 8,
   "metadata": {},
   "outputs": [
    {
     "data": {
      "text/plain": [
       "(24323,)"
      ]
     },
     "execution_count": 8,
     "metadata": {},
     "output_type": "execute_result"
    }
   ],
   "source": [
    "HGM_largecluster_orfs_df.genomeid.unique().shape"
   ]
  },
  {
   "cell_type": "code",
   "execution_count": 11,
   "metadata": {},
   "outputs": [
    {
     "data": {
      "text/plain": [
       "96.45191793775439"
      ]
     },
     "execution_count": 11,
     "metadata": {},
     "output_type": "execute_result"
    }
   ],
   "source": [
    "23460/24323*100"
   ]
  },
  {
   "cell_type": "code",
   "execution_count": 31,
   "metadata": {},
   "outputs": [
    {
     "data": {
      "text/html": [
       "<div>\n",
       "<style scoped>\n",
       "    .dataframe tbody tr th:only-of-type {\n",
       "        vertical-align: middle;\n",
       "    }\n",
       "\n",
       "    .dataframe tbody tr th {\n",
       "        vertical-align: top;\n",
       "    }\n",
       "\n",
       "    .dataframe thead th {\n",
       "        text-align: right;\n",
       "    }\n",
       "</style>\n",
       "<table border=\"1\" class=\"dataframe\">\n",
       "  <thead>\n",
       "    <tr style=\"text-align: right;\">\n",
       "      <th></th>\n",
       "      <th>orfid</th>\n",
       "      <th>clusterid</th>\n",
       "      <th>secreted</th>\n",
       "      <th>Prediction</th>\n",
       "      <th>phylum</th>\n",
       "    </tr>\n",
       "  </thead>\n",
       "  <tbody>\n",
       "    <tr>\n",
       "      <th>ERS235496_24</th>\n",
       "      <td>ERS235496_24_k99_12476_24</td>\n",
       "      <td>clusters0</td>\n",
       "      <td>no</td>\n",
       "      <td>Not_secreted</td>\n",
       "      <td>Firmicutes</td>\n",
       "    </tr>\n",
       "    <tr>\n",
       "      <th>ERS235496_24</th>\n",
       "      <td>ERS235496_24_k99_45601_35</td>\n",
       "      <td>clusters2</td>\n",
       "      <td>no</td>\n",
       "      <td>Not_secreted</td>\n",
       "      <td>Firmicutes</td>\n",
       "    </tr>\n",
       "    <tr>\n",
       "      <th>ERS235496_24</th>\n",
       "      <td>ERS235496_24_k99_36782_92</td>\n",
       "      <td>clusters3</td>\n",
       "      <td>no</td>\n",
       "      <td>Not_secreted</td>\n",
       "      <td>Firmicutes</td>\n",
       "    </tr>\n",
       "    <tr>\n",
       "      <th>ERS235496_24</th>\n",
       "      <td>ERS235496_24_k99_36782_111</td>\n",
       "      <td>clusters4</td>\n",
       "      <td>no</td>\n",
       "      <td>Not_secreted</td>\n",
       "      <td>Firmicutes</td>\n",
       "    </tr>\n",
       "  </tbody>\n",
       "</table>\n",
       "</div>"
      ],
      "text/plain": [
       "                                   orfid  clusterid secreted    Prediction  \\\n",
       "ERS235496_24   ERS235496_24_k99_12476_24  clusters0       no  Not_secreted   \n",
       "ERS235496_24   ERS235496_24_k99_45601_35  clusters2       no  Not_secreted   \n",
       "ERS235496_24   ERS235496_24_k99_36782_92  clusters3       no  Not_secreted   \n",
       "ERS235496_24  ERS235496_24_k99_36782_111  clusters4       no  Not_secreted   \n",
       "\n",
       "                  phylum  \n",
       "ERS235496_24  Firmicutes  \n",
       "ERS235496_24  Firmicutes  \n",
       "ERS235496_24  Firmicutes  \n",
       "ERS235496_24  Firmicutes  "
      ]
     },
     "execution_count": 31,
     "metadata": {},
     "output_type": "execute_result"
    }
   ],
   "source": [
    "HGM_largecluster_orfs_tax_df[:4]"
   ]
  },
  {
   "cell_type": "code",
   "execution_count": 45,
   "metadata": {},
   "outputs": [],
   "source": [
    "passing_HGM_largecluster_orfs_tax_df = HGM_largecluster_orfs_tax_df[HGM_largecluster_orfs_tax_df['genomeid'].isin(passing_mags)]"
   ]
  },
  {
   "cell_type": "code",
   "execution_count": 115,
   "metadata": {},
   "outputs": [],
   "source": [
    "os.mkdir('ipynb_out/Figures/')"
   ]
  },
  {
   "cell_type": "code",
   "execution_count": 122,
   "metadata": {
    "scrolled": true
   },
   "outputs": [],
   "source": [
    "#Group by phylum\n",
    "grouped_orfids_byphy = passing_HGM_largecluster_orfs_tax_df.groupby('phylum')\n",
    "\n",
    "phygenpropsec_df = pd.DataFrame()\n",
    "topphy = [] #List of phyla that have more than 10 MAGs in Nayfach dataset\n",
    "ave = dict()\n",
    "for name, group in grouped_orfids_byphy:\n",
    "    #print(name)\n",
    "    phy = name\n",
    "    if phy in bacphy:\n",
    "        phygenpropsec = []\n",
    "        if len(group['genomeid'].unique()) > 10:\n",
    "            topphy.append(name)\n",
    "        phygroupgenome = group.groupby('genomeid')\n",
    "        for name, group in phygroupgenome:\n",
    "            #print(name)\n",
    "            phygenpropsec.append(group[group['secreted'] == 'yes'].shape[0]/group.shape[0]*100)\n",
    "        #newphymags = pd.DataFrame(pd.Series(phygenpropsec, name=phy))\n",
    "        #phygenpropsec_df = pd.concat([phygenpropsec_df, newphymags], axis=1)\n",
    "    \n",
    "    \n",
    "    ave[phy] = np.average(phygenpropsec)\n",
    "    phygenpropsec_df = phygenpropsec_df.append(pd.DataFrame({'Phylum':phy, 'Secreted ORFs per MAG (%)':phygenpropsec}))\n",
    "    \n",
    "#Order phyla by average secreted proportion of ORFs\n",
    "orderphy= pd.DataFrame(pd.Series(ave, name='Ave')).sort_values('Ave', ascending=False).index.tolist()\n",
    "\n",
    "#Make dataframe that only contains phyla that have more than 10 MAGs in dataset\n",
    "phygenpropsec_df_topphy = phygenpropsec_df[phygenpropsec_df['Phylum'].isin(topphy)]\n",
    "\n",
    "#Order those phyla too\n",
    "topphy_orderphy = []\n",
    "for phy in orderphy:\n",
    "    if phy in topphy:\n",
    "        topphy_orderphy.append(phy)\n"
   ]
  },
  {
   "cell_type": "code",
   "execution_count": 123,
   "metadata": {},
   "outputs": [
    {
     "data": {
      "image/png": "[encoded data removed]",
      "text/plain": [
       "<Figure size 1440x360 with 1 Axes>"
      ]
     },
     "metadata": {
      "needs_background": "light"
     },
     "output_type": "display_data"
    }
   ],
   "source": [
    "plt.subplots(figsize=[20,5])\n",
    "\n",
    "sns.violinplot(x='Phylum' ,y='Secreted ORFs per MAG (%)', data=phygenpropsec_df_topphy, scale=\"width\", #width=7.5,\n",
    "               order=topphy_orderphy)\n",
    "\n",
    "for phy in topphy_orderphy:\n",
    "    num_mags = phygenpropsec_df_topphy[phygenpropsec_df_topphy.Phylum == phy].shape[0]\n",
    "    plt.text(topphy_orderphy.index(phy), 14, str(num_mags), horizontalalignment='center', size='medium', color='black', weight='normal')\n",
    "\n",
    "plt.rcParams.update({'font.size': 14})\n",
    "plt.rcParams['svg.fonttype'] = 'none'\n",
    "plt.xticks(rotation=45)\n",
    "plt.savefig('ipynb_out/Figures/Fig1_v1_sec_perc_phy_violinplot.svg',format='svg')\n",
    "plt.show()"
   ]
  },
  {
   "cell_type": "code",
   "execution_count": 124,
   "metadata": {},
   "outputs": [],
   "source": [
    "#Get orfids for sec or nonsec\n",
    "def get_orfids():\n",
    "    HGM_master_sec_nonsec = pd.read_csv('~/20210602_metasecretome_figures/ipynb_out/HGM_master_sec_nonsec.tsv', \n",
    "                      sep='\\t')\n",
    "    #\n",
    "    sec_orfids = HGM_master_sec_nonsec[HGM_master_sec_nonsec['Secreted'] == 'Secreted']['orfid'].tolist()\n",
    "    nonsec_orfids = HGM_master_sec_nonsec[HGM_master_sec_nonsec['Secreted'] == 'Not Secreted']['orfid'].tolist()\n",
    "    \n",
    "    return(sec_orfids, nonsec_orfids)\n",
    "def get_phygenpropsec(phy):\n",
    "    phy_list = phygenpropsec_df_topphy[phygenpropsec_df_topphy.Phylum == phy]['Secreted ORFs per MAG (%)'].tolist()\n",
    "    return(phy_list)\n",
    "def get_num_mags_in_phy(phy):\n",
    "    num_mags = phygenpropsec_df_topphy[phygenpropsec_df_topphy.Phylum == phy].shape[0]\n",
    "    return(num_mags)"
   ]
  },
  {
   "cell_type": "code",
   "execution_count": 125,
   "metadata": {},
   "outputs": [
    {
     "data": {
      "text/plain": [
       "KruskalResult(statistic=16184.811591032876, pvalue=0.0)"
      ]
     },
     "execution_count": 125,
     "metadata": {},
     "output_type": "execute_result"
    }
   ],
   "source": [
    "scipy.stats.kruskal(get_phygenpropsec(\"Actinobacteria\"),get_phygenpropsec('Bacteroidetes'), get_phygenpropsec('Desulfobacteraeota_A'),\n",
    "       get_phygenpropsec('Elusimicrobia'), get_phygenpropsec('Firmicutes'), get_phygenpropsec('Fusobacteria'), \n",
    " get_phygenpropsec('Proteobacteria'), get_phygenpropsec('Spirochaetes'), get_phygenpropsec('Verrucomicrobia'))"
   ]
  },
  {
   "cell_type": "code",
   "execution_count": 126,
   "metadata": {},
   "outputs": [
    {
     "name": "stdout",
     "output_type": "stream",
     "text": [
      "comparing Verrucomicrobia with Actinobacteria\n",
      "MannwhitneyuResult(statistic=720057.0, pvalue=3.8656858548340785e-240)\n",
      "Significant\n",
      "Mean of Verrucomicrobia\n",
      "6.311387108013541\n",
      "Mean of Actinobacteria\n",
      "0.1850311199675443\n",
      "--\n",
      "comparing Verrucomicrobia with Bacteroidetes\n",
      "MannwhitneyuResult(statistic=746524.0, pvalue=1.0)\n",
      "Not significant\n",
      "--\n",
      "comparing Verrucomicrobia with Firmicutes\n",
      "MannwhitneyuResult(statistic=6825869.0, pvalue=9.480530983882467e-306)\n",
      "Significant\n",
      "Mean of Verrucomicrobia\n",
      "6.311387108013541\n",
      "Mean of Firmicutes\n",
      "0.6899029014166135\n",
      "--\n",
      "comparing Verrucomicrobia with Desulfobacteraeota_A\n",
      "MannwhitneyuResult(statistic=27898.0, pvalue=7.07946625772221e-36)\n",
      "Significant\n",
      "Mean of Verrucomicrobia\n",
      "6.311387108013541\n",
      "Mean of Desulfobacteraeota_A\n",
      "3.9718503242707315\n",
      "--\n",
      "comparing Verrucomicrobia with Proteobacteria\n",
      "MannwhitneyuResult(statistic=535260.0, pvalue=2.7903563980997764e-07)\n",
      "Significant\n",
      "Mean of Verrucomicrobia\n",
      "6.311387108013541\n",
      "Mean of Proteobacteria\n",
      "5.888698499483011\n",
      "--\n",
      "comparing Verrucomicrobia with Spirochaetes\n",
      "MannwhitneyuResult(statistic=39442.0, pvalue=7.642444747974512e-48)\n",
      "Significant\n",
      "Mean of Verrucomicrobia\n",
      "6.311387108013541\n",
      "Mean of Spirochaetes\n",
      "2.9801730728259432\n",
      "--\n",
      "comparing Bacteroidetes with Actinobacteria\n",
      "MannwhitneyuResult(statistic=7523706.0, pvalue=0.0)\n",
      "Significant\n",
      "Mean of Bacteroidetes\n",
      "6.987490641675985\n",
      "Mean of Actinobacteria\n",
      "0.1850311199675443\n",
      "--\n",
      "comparing Bacteroidetes with Firmicutes\n",
      "MannwhitneyuResult(statistic=71254382.5, pvalue=0.0)\n",
      "Significant\n",
      "Mean of Bacteroidetes\n",
      "6.987490641675985\n",
      "Mean of Firmicutes\n",
      "0.6899029014166135\n",
      "--\n",
      "comparing Bacteroidetes with Desulfobacteraeota_A\n",
      "MannwhitneyuResult(statistic=278121.0, pvalue=5.272684750762072e-33)\n",
      "Significant\n",
      "Mean of Bacteroidetes\n",
      "6.987490641675985\n",
      "Mean of Desulfobacteraeota_A\n",
      "3.9718503242707315\n",
      "--\n",
      "comparing Bacteroidetes with Proteobacteria\n",
      "MannwhitneyuResult(statistic=7367110.5, pvalue=7.772623468879369e-241)\n",
      "Significant\n",
      "Mean of Bacteroidetes\n",
      "6.987490641675985\n",
      "Mean of Proteobacteria\n",
      "5.888698499483011\n",
      "--\n",
      "comparing Bacteroidetes with Spirochaetes\n",
      "MannwhitneyuResult(statistic=405304.5, pvalue=1.977681934194132e-51)\n",
      "Significant\n",
      "Mean of Bacteroidetes\n",
      "6.987490641675985\n",
      "Mean of Spirochaetes\n",
      "2.9801730728259432\n",
      "--\n",
      "comparing Bacteroidetes with Verrucomicrobia\n",
      "MannwhitneyuResult(statistic=1670982.0, pvalue=4.422922927858756e-44)\n",
      "Significant\n",
      "Mean of Bacteroidetes\n",
      "6.987490641675985\n",
      "Mean of Verrucomicrobia\n",
      "6.311387108013541\n",
      "--\n"
     ]
    }
   ],
   "source": [
    "all_phyla = phygenpropsec_df_topphy.Phylum.unique().tolist()\n",
    "\n",
    "#Filter for phyla with at more than 50 MAGs:\n",
    "major_phyla = []\n",
    "for phy in all_phyla:\n",
    "    if get_num_mags_in_phy(phy) > 50:\n",
    "        major_phyla.append(phy)\n",
    "\n",
    "for phy in ['Verrucomicrobia', 'Bacteroidetes']:\n",
    "    for otherphy in set(major_phyla) - {phy}:\n",
    "        print(\"comparing \" + phy + \" with \" + otherphy)\n",
    "        statres = scipy.stats.mannwhitneyu(x=get_phygenpropsec(phy), y=get_phygenpropsec(otherphy), alternative = 'greater')\n",
    "        print(statres)\n",
    "        #Bonferroni correction\n",
    "        if statres.pvalue < 0.05/20:    \n",
    "            print(\"Significant\")\n",
    "            print(\"Mean of \" + phy)\n",
    "            print(np.mean(get_phygenpropsec(phy)))\n",
    "            print(\"Mean of \" + otherphy)\n",
    "            print(np.mean(get_phygenpropsec(otherphy)))\n",
    "        else:\n",
    "            print(\"Not significant\")\n",
    "        print('--')\n",
    "        "
   ]
  },
  {
   "cell_type": "code",
   "execution_count": 54,
   "metadata": {},
   "outputs": [],
   "source": [
    "#Get orfids for sec or nonsec\n",
    "def get_orfids():\n",
    "    #HGM_master_sec_nonsec = pd.read_csv('~/20210602_metasecretome_figures/ipynb_out/HGM_master_sec_nonsec.tsv', \n",
    "    #                  sep='\\t')\n",
    "    #\n",
    "    sec_orfids = passing_HGM_largecluster_orfs_tax_df[passing_HGM_largecluster_orfs_tax_df['secreted'] == 'yes']['orfid'].unique().tolist()\n",
    "    nonsec_orfids = passing_HGM_largecluster_orfs_tax_df[passing_HGM_largecluster_orfs_tax_df['secreted'] == 'no']['orfid'].unique().tolist()\n",
    "    \n",
    "    return(sec_orfids, nonsec_orfids)\n",
    "\n",
    "def get_lengths():\n",
    "    #Make record from fasta of all orfs\n",
    "    record_dict = SeqIO.to_dict(SeqIO.parse('/home/ec2-user/20200128_HGM_Parks_prodigal/HGM_all_genes.faa','fasta'))\n",
    "    record_dict_keys_list = list(record_dict.keys())\n",
    "\n",
    "    # If record belongs to large cluster bacterial ORFs in MAGS > 482 ORFs, add id and length to tuple\n",
    "    orfofint = sec_orfids + nonsec_orfids\n",
    "    rec_orfofint = list(set(record_dict_keys_list) & set(orfofint))\n",
    "    HGM_all_genes_lengths_tuple = []\n",
    "\n",
    "    for orf in rec_orfofint:\n",
    "        HGM_all_genes_lengths_tuple.append((record_dict[orf].id, len(str(record_dict[orf].seq))))\n",
    "\n",
    "    pd.DataFrame(HGM_all_genes_lengths_tuple).to_csv('ipynb_out/HGM_all_genes_lengths.tsv', sep='\\t', \n",
    "                                                     header=['orfid','aa_length'], index=False)\n",
    "    \n",
    "def get_length_dict(magid):\n",
    "    length_dict = dict()\n",
    "    faa_path = \"/home/ec2-user/20220906_HGM_prodigal/prodigal_output_HGM/faa_output/\"\n",
    "    with open(faa_path + magid + '.faa') as handle:\n",
    "        recs = SeqIO.to_dict(SeqIO.parse(handle, 'fasta'))\n",
    "    length_dict = {orfid:len(str(recs[orfid].seq).replace('*','')) for orfid in recs.keys()}\n",
    "    return(length_dict)\n",
    "\n",
    "def pickle_length_dict(mag):\n",
    "    dic = get_length_dict(mag)\n",
    "    pickle.dump( dic, open( \"ipynb_out/pickled_length_dictionaries/\" + mag + \".p\", \"wb\" ) )"
   ]
  },
  {
   "cell_type": "code",
   "execution_count": 127,
   "metadata": {},
   "outputs": [],
   "source": [
    "passing_HGM_largecluster_orfs_tax_df.to_csv('ipynb_out/passing_HGM_largecluster_orfs_tax_df.tsv', sep='\\t')"
   ]
  },
  {
   "cell_type": "code",
   "execution_count": 92,
   "metadata": {},
   "outputs": [],
   "source": [
    "os.mkdir(\"ipynb_out/pickled_length_dictionaries/\")"
   ]
  },
  {
   "cell_type": "code",
   "execution_count": 95,
   "metadata": {},
   "outputs": [],
   "source": [
    "with Pool(28) as p:\n",
    "    p.map(pickle_length_dict, passing_mags)"
   ]
  },
  {
   "cell_type": "code",
   "execution_count": 99,
   "metadata": {},
   "outputs": [],
   "source": [
    "passing_mags_length_dict = dict()\n",
    "for mag in passing_mags:\n",
    "    passing_mags_length_dict.update(pickle.load( open( \"ipynb_out/pickled_length_dictionaries/\" + mag + \".p\", \"rb\" ) ))"
   ]
  },
  {
   "cell_type": "code",
   "execution_count": 110,
   "metadata": {},
   "outputs": [],
   "source": [
    "pickle.dump( passing_mags_length_dict, open( \"ipynb_out/HGM_pickled_length_dictionary.p\", \"wb\" ) )"
   ]
  },
  {
   "cell_type": "code",
   "execution_count": 55,
   "metadata": {},
   "outputs": [],
   "source": [
    "sec_orfids, nonsec_orfids = get_orfids()"
   ]
  },
  {
   "cell_type": "code",
   "execution_count": 57,
   "metadata": {},
   "outputs": [
    {
     "data": {
      "text/plain": [
       "1627156"
      ]
     },
     "execution_count": 57,
     "metadata": {},
     "output_type": "execute_result"
    }
   ],
   "source": [
    "len(sec_orfids)"
   ]
  },
  {
   "cell_type": "code",
   "execution_count": 58,
   "metadata": {},
   "outputs": [
    {
     "data": {
      "text/plain": [
       "51884368"
      ]
     },
     "execution_count": 58,
     "metadata": {},
     "output_type": "execute_result"
    }
   ],
   "source": [
    "len(nonsec_orfids)"
   ]
  },
  {
   "cell_type": "code",
   "execution_count": 100,
   "metadata": {},
   "outputs": [],
   "source": [
    "sec_orfs_len_dict = {orfid:passing_mags_length_dict[orfid] for orfid in sec_orfids}\n",
    "nonsec_orfs_len_dict = {orfid:passing_mags_length_dict[orfid] for orfid in nonsec_orfids}"
   ]
  },
  {
   "cell_type": "code",
   "execution_count": 108,
   "metadata": {},
   "outputs": [],
   "source": [
    "sec_genes_lengths_df = pd.DataFrame(pd.Series(sec_orfs_len_dict, name='aa_length'))\n",
    "sec_genes_lengths_df['Prediction'] = 'Secreted'\n",
    "\n",
    "nonsec_genes_lengths_df = pd.DataFrame(pd.Series(nonsec_orfs_len_dict, name='aa_length'))\n",
    "nonsec_genes_lengths_df['Prediction'] = 'Not Secreted'\n",
    "\n",
    "HGM_all_genes_lengths_df = sec_genes_lengths_df.append(nonsec_genes_lengths_df)\n",
    "HGM_all_genes_lengths_df['aa_length(log10)'] = [np.log10(length) for length in HGM_all_genes_lengths_df['aa_length']]\n",
    "\n",
    "# HGM_all_genes_lengths_df.loc[HGM_all_genes_lengths_df['orfid'].isin(sec_orfids),'Prediction'] = 'Secreted'\n",
    "# HGM_all_genes_lengths_df.loc[HGM_all_genes_lengths_df['orfid'].isin(nonsec_orfids),'Prediction'] = 'Not Secreted'\n",
    "\n",
    "# HGM_all_genes_lengths_df['aa_length(log10)'] = [np.log10(length) for length in HGM_all_genes_lengths_df['aa_length']]\n"
   ]
  },
  {
   "cell_type": "code",
   "execution_count": 119,
   "metadata": {},
   "outputs": [
    {
     "data": {
      "image/png": "[encoded data removed]",
      "text/plain": [
       "<Figure size 360x360 with 1 Axes>"
      ]
     },
     "metadata": {
      "needs_background": "light"
     },
     "output_type": "display_data"
    }
   ],
   "source": [
    "plt.subplots(figsize=[5, 5])\n",
    "ax = sns.violinplot(x='Prediction' ,y='aa_length(log10)', \n",
    "               data=HGM_all_genes_lengths_df, scale=\"width\",\n",
    "              gridsize=400, bw=0.2)\n",
    "\n",
    "ax.yaxis.set_major_formatter(mticker.StrMethodFormatter(\"$10^{{{x:.0f}}}$\"))\n",
    "ax.yaxis.set_ticks([np.log10(x) for p in range(0, 5) for x in np.linspace(10**p, 10**(p+1), 10)], minor=True)\n",
    "plt.savefig('ipynb_out/Figures/Fig1_v1_sec_nonsec_lengthdist_logscale.svg',format='svg')\n",
    "plt.show()\n"
   ]
  },
  {
   "cell_type": "code",
   "execution_count": 111,
   "metadata": {},
   "outputs": [],
   "source": [
    "sec_group = HGM_all_genes_lengths_df[HGM_all_genes_lengths_df['Prediction'] == 'Secreted'].aa_length.tolist()\n",
    "not_sec_group = HGM_all_genes_lengths_df[HGM_all_genes_lengths_df['Prediction'] == 'Not Secreted'].aa_length.tolist()"
   ]
  },
  {
   "cell_type": "code",
   "execution_count": 112,
   "metadata": {},
   "outputs": [
    {
     "data": {
      "text/plain": [
       "481.7961559924187"
      ]
     },
     "execution_count": 112,
     "metadata": {},
     "output_type": "execute_result"
    }
   ],
   "source": [
    "np.mean(sec_group)"
   ]
  },
  {
   "cell_type": "code",
   "execution_count": 113,
   "metadata": {},
   "outputs": [
    {
     "data": {
      "text/plain": [
       "329.16223728503354"
      ]
     },
     "execution_count": 113,
     "metadata": {},
     "output_type": "execute_result"
    }
   ],
   "source": [
    "np.mean(not_sec_group)"
   ]
  },
  {
   "cell_type": "code",
   "execution_count": 114,
   "metadata": {},
   "outputs": [
    {
     "name": "stdout",
     "output_type": "stream",
     "text": [
      "28413748214882.0\n",
      "0.0\n"
     ]
    }
   ],
   "source": [
    "import scipy.stats as stats\n",
    "t, pvalue = stats.mannwhitneyu(sec_group,not_sec_group, alternative=None)\n",
    "print(t)\n",
    "print(pvalue)"
   ]
  },
  {
   "cell_type": "code",
   "execution_count": null,
   "metadata": {},
   "outputs": [],
   "source": [
    "#What is the amino acid cost of secreted proteins compared to non-secreted proteins?"
   ]
  },
  {
   "cell_type": "code",
   "execution_count": 133,
   "metadata": {},
   "outputs": [
    {
     "data": {
      "text/html": [
       "<div>\n",
       "<style scoped>\n",
       "    .dataframe tbody tr th:only-of-type {\n",
       "        vertical-align: middle;\n",
       "    }\n",
       "\n",
       "    .dataframe tbody tr th {\n",
       "        vertical-align: top;\n",
       "    }\n",
       "\n",
       "    .dataframe thead th {\n",
       "        text-align: right;\n",
       "    }\n",
       "</style>\n",
       "<table border=\"1\" class=\"dataframe\">\n",
       "  <thead>\n",
       "    <tr style=\"text-align: right;\">\n",
       "      <th></th>\n",
       "      <th>orfid</th>\n",
       "      <th>clusterid</th>\n",
       "      <th>genomeid</th>\n",
       "      <th>secreted</th>\n",
       "      <th>Prediction</th>\n",
       "    </tr>\n",
       "  </thead>\n",
       "  <tbody>\n",
       "    <tr>\n",
       "      <th>0</th>\n",
       "      <td>ERS235496_24_k99_12476_24</td>\n",
       "      <td>clusters0</td>\n",
       "      <td>ERS235496_24</td>\n",
       "      <td>no</td>\n",
       "      <td>Not_secreted</td>\n",
       "    </tr>\n",
       "    <tr>\n",
       "      <th>1</th>\n",
       "      <td>ERS235501_56_k99_98957_2</td>\n",
       "      <td>clusters0</td>\n",
       "      <td>ERS235501_56</td>\n",
       "      <td>no</td>\n",
       "      <td>Not_secreted</td>\n",
       "    </tr>\n",
       "    <tr>\n",
       "      <th>2</th>\n",
       "      <td>ERS235504_6_k99_4431_112</td>\n",
       "      <td>clusters0</td>\n",
       "      <td>ERS235504_6</td>\n",
       "      <td>no</td>\n",
       "      <td>Not_secreted</td>\n",
       "    </tr>\n",
       "    <tr>\n",
       "      <th>3</th>\n",
       "      <td>ERS235508_18_k99_12042_6</td>\n",
       "      <td>clusters0</td>\n",
       "      <td>ERS235508_18</td>\n",
       "      <td>no</td>\n",
       "      <td>Not_secreted</td>\n",
       "    </tr>\n",
       "  </tbody>\n",
       "</table>\n",
       "</div>"
      ],
      "text/plain": [
       "                       orfid  clusterid      genomeid secreted    Prediction\n",
       "0  ERS235496_24_k99_12476_24  clusters0  ERS235496_24       no  Not_secreted\n",
       "1   ERS235501_56_k99_98957_2  clusters0  ERS235501_56       no  Not_secreted\n",
       "2   ERS235504_6_k99_4431_112  clusters0   ERS235504_6       no  Not_secreted\n",
       "3   ERS235508_18_k99_12042_6  clusters0  ERS235508_18       no  Not_secreted"
      ]
     },
     "execution_count": 133,
     "metadata": {},
     "output_type": "execute_result"
    }
   ],
   "source": [
    "HGM_largecluster_orfs_df[:4]"
   ]
  },
  {
   "cell_type": "code",
   "execution_count": 137,
   "metadata": {},
   "outputs": [
    {
     "name": "stdout",
     "output_type": "stream",
     "text": [
      "download: s3://florencia-velez/working/20210519_signalp_analysis/ipynb_out/representative_hgm_mags.csv to ./representative_hgm_mags.csv\n"
     ]
    }
   ],
   "source": [
    "! aws s3 cp s3://florencia-velez/working/20210519_signalp_analysis/ipynb_out/representative_hgm_mags.csv representative_hgm_mags.csv"
   ]
  },
  {
   "cell_type": "code",
   "execution_count": 130,
   "metadata": {},
   "outputs": [
    {
     "name": "stdout",
     "output_type": "stream",
     "text": [
      "Completed 171 Bytes/171 Bytes (3.0 KiB/s) with 1 file(s) remaining\r",
      "download: s3://florencia-velez/working/20210602_metasecretome_figures/ipynb_out/Suppl_Info/amino_acid_cost_akashi.txt to ./amino_acid_cost_akashi.txt\r\n"
     ]
    }
   ],
   "source": [
    "! aws s3 cp s3://florencia-velez/working/20210602_metasecretome_figures/ipynb_out/Suppl_Info/amino_acid_cost_akashi.txt amino_acid_cost_akashi.txt"
   ]
  },
  {
   "cell_type": "code",
   "execution_count": 20,
   "metadata": {},
   "outputs": [],
   "source": [
    "def filter_for_hgm_representative_orfs():\n",
    "    #HGM_master_sec_nonsec = pd.read_csv('ipynb_out/HGM_master_sec_nonsec.tsv', sep='\\t')\n",
    "    #HGM_master_sec_orfids = HGM_master_sec_nonsec[HGM_master_sec_nonsec['Secreted'] == 'Secreted']['orfid'].tolist()\n",
    "    #HGM_master_sec_nonsec['genomeid'] = ['_'.join(orfid.split('_')[:2]) for orfid in  HGM_master_sec_nonsec.orfid]\n",
    "\n",
    "    representative_mags = pd.read_csv('representative_hgm_mags.csv')['genomeid'].unique().tolist()\n",
    "    HGM_rep_orfs = HGM_largecluster_orfs_df[HGM_largecluster_orfs_df['genomeid'].isin(representative_mags)][['orfid', 'secreted', 'genomeid']]\n",
    "\n",
    "    #Filter out mags that lack either secreted or non-secreted orfs\n",
    "    hgm_rep_mags_wnonsec = set(HGM_rep_orfs[HGM_rep_orfs.secreted == 'no'].genomeid.unique())\n",
    "    hgm_rep_mags_wsec = set(HGM_rep_orfs[HGM_rep_orfs.secreted == 'yes'].genomeid.unique())\n",
    "    mags_w_both = list(hgm_rep_mags_wnonsec & hgm_rep_mags_wsec) \n",
    "    HGM_rep_orfs = HGM_rep_orfs[HGM_rep_orfs.genomeid.isin(mags_w_both)][['orfid', 'secreted', 'genomeid']]\n",
    "    #Remove one bad orf\n",
    "    #HGM_rep_orfs = HGM_rep_orfs[HGM_rep_orfs.orfid != \"ERS537399_81_kERS537399_9_k99_433_1\"]\n",
    "    return(HGM_rep_orfs)\n",
    "\n",
    "def calc_protein_cost_by_residue(prot_seq):\n",
    "    total_cost = 0\n",
    "    #Remove stop\n",
    "    prot_seq = prot_seq.replace('*','')\n",
    "    #Count amino acids\n",
    "    aa_dist = ProteinAnalysis(prot_seq).count_amino_acids()\n",
    "    temp = pd.DataFrame(pd.Series(aa_dist, name='Counts')).join(pd.Series(aa_cost_dict, name='Cost'))\n",
    "    total_cost = np.sum(temp['Counts']*temp['Cost'])\n",
    "    return(total_cost/len(prot_seq))\n",
    "\n",
    "def get_dict_mag_cost_by_sec(secretion_status, magid, group): \n",
    "    #Secretion status has to be either \"Secreted\" (yes) or \"Not Secreted\" (no)\n",
    "    mag_orfs = group[group.secreted == secretion_status].orfid.tolist()\n",
    "    cost_orfs = []\n",
    "    \n",
    "    fasta_path = \"/home/ec2-user/20220906_HGM_prodigal/prodigal_output_HGM/faa_output/\" + magid + \".faa\"\n",
    "    mag_faa_dict = SeqIO.to_dict(SeqIO.parse(fasta_path, 'fasta'))        \n",
    "                \n",
    "    for key in mag_orfs:\n",
    "        cost_orfs.append(calc_protein_cost_by_residue(str(mag_faa_dict.get(key).seq)))\n",
    "    return(cost_orfs)\n",
    "\n",
    "def orf_cost_per_res_phylum2pickl(name_group_list):\n",
    "    name = name_group_list[0]\n",
    "    group = name_group_list[1]\n",
    "    #Take in name and group and produce pickled dictionary of costs per residue of all proteins in all MAGs in phylum\n",
    "    orf_cost_dict = dict()\n",
    "    magid = name\n",
    "    if not os.path.exists('ipynb_out/hgm_mag_cost_per_res_pickl/' + magid + '.p'):\n",
    "        cost_nonsec = get_dict_mag_cost_by_sec(\"no\", name, group)\n",
    "        cost_sec = get_dict_mag_cost_by_sec(\"yes\", name, group)\n",
    "        orf_cost_dict[magid] = {'no': cost_nonsec, 'yes': cost_sec}\n",
    "\n",
    "        #Write dictionary of each mag orf costs to pickle\n",
    "        with open('ipynb_out/hgm_mag_cost_per_res_pickl/' + magid + '.p', 'ab') as magfile:\n",
    "            pickle.dump(orf_cost_dict[magid], magfile)\n",
    "            \n",
    "def calculate_diff_average_cost(mag_cost_dict):\n",
    "    diff = np.average(mag_cost_dict['yes']) - np.average(mag_cost_dict['no'])\n",
    "    return(diff)\n",
    "def calculate_GC_content(magid):\n",
    "    magid_nuc_seq = SeqIO.parse('/home/ec2-user/20220906_HGM_prodigal/prodigal_output_HGM/fna_output/' + magid + '.fna', 'fasta')\n",
    "    concat_magid_nuc_seq = ''.join([str(rec.seq) for rec in magid_nuc_seq])\n",
    "    return(GC(concat_magid_nuc_seq))"
   ]
  },
  {
   "cell_type": "code",
   "execution_count": 7,
   "metadata": {},
   "outputs": [],
   "source": [
    "#Obtained from Akashi et al (2002) https://doi.org/10.1073/pnas.062526999\n",
    "aa_cost_dict = pd.read_csv('amino_acid_cost_akashi.txt', sep='\\t').set_index('amino acid').to_dict()['cost']"
   ]
  },
  {
   "cell_type": "code",
   "execution_count": 8,
   "metadata": {},
   "outputs": [],
   "source": [
    "HGM_rep_orfs = filter_for_hgm_representative_orfs()"
   ]
  },
  {
   "cell_type": "code",
   "execution_count": null,
   "metadata": {},
   "outputs": [],
   "source": [
    "os.mkdir('ipynb_out/hgm_mag_cost_per_res_pickl/')"
   ]
  },
  {
   "cell_type": "code",
   "execution_count": 9,
   "metadata": {},
   "outputs": [],
   "source": [
    "#Calculate for a set of mags, what the cost of secreted orfs is, and what the cost of non-secreted orfs is\n",
    "#Test on small set of proteins\n",
    "#somerepprots = HGM_rep_orfs['orfid'].tolist()[:40000]\n",
    "#grouped = HGM_rep_orfs[HGM_rep_orfs.orfid.isin(somerepprots)].groupby('genomeid')\n",
    "grouped = HGM_rep_orfs.groupby('genomeid')\n"
   ]
  },
  {
   "cell_type": "code",
   "execution_count": 13,
   "metadata": {},
   "outputs": [],
   "source": [
    "#Use more memory, load all orfs into dict and then pull using iterator to calculate amino acid\n",
    "#percentage\n",
    "fasta_path = \"/home/ec2-user/20220906_HGM_prodigal/prodigal_output_HGM/HGM_all_genes.faa\"\n",
    "hgm_faa_dict = SeqIO.to_dict(SeqIO.parse(fasta_path, 'fasta'))\n",
    "#dbfile = open('ipynb_out/HGM_all_genes_aa.p', 'rb')\n",
    "#hgm_faa_dict = pickle.load(open('ipynb_out/HGM_all_genes_aa.p', 'rb'))"
   ]
  },
  {
   "cell_type": "code",
   "execution_count": 18,
   "metadata": {},
   "outputs": [],
   "source": [
    "#Pool\n",
    "mags_grouped_list = []\n",
    "for name, group in grouped:\n",
    "    mags_grouped_list.append([name, group])\n",
    "\n",
    "with Pool(24) as p:\n",
    "    p.map(orf_cost_per_res_phylum2pickl, mags_grouped_list)"
   ]
  },
  {
   "cell_type": "code",
   "execution_count": 23,
   "metadata": {},
   "outputs": [],
   "source": [
    "#Import pickles\n",
    "diff_cost_dict = dict()\n",
    "mag_gc_dict = dict()\n",
    "for mag_pickle in os.listdir('ipynb_out/hgm_mag_cost_per_res_pickl/'):\n",
    "    magid = mag_pickle.replace('.p','')\n",
    "    mag_cost_dict = pickle.load(open('ipynb_out/hgm_mag_cost_per_res_pickl/' + mag_pickle, 'rb'))\n",
    "    diff_cost_dict[magid] = calculate_diff_average_cost(mag_cost_dict)\n",
    "    #GC content of MAG versus cost per residue\n",
    "    mag_gc_dict[magid] = calculate_GC_content(magid)"
   ]
  },
  {
   "cell_type": "code",
   "execution_count": 24,
   "metadata": {},
   "outputs": [],
   "source": [
    "cost_gc_df = pd.DataFrame(pd.Series(diff_cost_dict, name='Cost_per_residue')).join(pd.Series(mag_gc_dict, name='GC_perc'))\n",
    "cost_gc_df = cost_gc_df.dropna()"
   ]
  },
  {
   "cell_type": "code",
   "execution_count": 30,
   "metadata": {},
   "outputs": [],
   "source": [
    "#mag_cost_phy = pd.DataFrame(pd.Series(diff_cost_dict, name='cost_difference')).join(HGM_metadata.loc[list(diff_cost_dict.keys())][['Phylum']])\n",
    "\n",
    "mag_cost_phy = cost_gc_df.join(HGM_taxinfo.loc[list(diff_cost_dict.keys())][['phylum']])\n",
    "more_samples_mags = mag_cost_phy.phylum.value_counts()[mag_cost_phy.phylum.value_counts() >= 10].index.tolist()\n",
    "mag_cost_phy = mag_cost_phy[mag_cost_phy.phylum.isin(more_samples_mags)]\n",
    "grouped = mag_cost_phy.groupby('phylum')"
   ]
  },
  {
   "cell_type": "code",
   "execution_count": 37,
   "metadata": {},
   "outputs": [],
   "source": [
    "phyorder = []\n",
    "cost_dict = dict()\n",
    "for name, group in mag_cost_phy.groupby('phylum'):\n",
    "    cost_dict[name] = np.mean(group.Cost_per_residue)\n",
    "    \n",
    "phyorder = pd.Series(cost_dict).sort_values(ascending=False).index.tolist()"
   ]
  },
  {
   "cell_type": "code",
   "execution_count": 39,
   "metadata": {},
   "outputs": [
    {
     "data": {
      "image/png": "[encoded data removed]",
      "text/plain": [
       "<Figure size 432x576 with 1 Axes>"
      ]
     },
     "metadata": {
      "needs_background": "light"
     },
     "output_type": "display_data"
    }
   ],
   "source": [
    "phycoldict = {'Firmicutes': 'red', \n",
    " 'Actinobacteria': 'green', \n",
    " 'Bacteroidetes': 'blue', \n",
    " 'Proteobacteria': 'orange',\n",
    "       'Verrucomicrobia': 'lightgreen', \n",
    " 'Desulfobacteraeota_A': 'lightblue', \n",
    " 'Cyanobacteria': 'gray',\n",
    "       'Fusobacteria': 'purple', \n",
    " 'Spirochaetes': 'yellow', \n",
    " 'Elusimicrobia': 'pink',\n",
    "'Epsilonbacteraeota': 'brown'}\n",
    "\n",
    "plt.subplots(figsize=(6,8))\n",
    "plt.vlines(x=0, ymin=-1, ymax=11, linestyles='dashed', color='r')\n",
    "sns.violinplot(x=\"Cost_per_residue\", y=\"phylum\", data=mag_cost_phy.reset_index().drop('index', axis=1), \n",
    "               scale=\"width\", palette=phycoldict, order=phyorder)\n",
    "plt.title('Difference in biosynthesis cost of secreted and non-secreted proteins averaged for each representative HGM MAG')\n",
    "plt.xlabel('Biosynthesis cost of secreted - non-secreted proteins (~P/residue)')\n",
    "plt.rcParams['svg.fonttype'] = 'none'\n",
    "plt.savefig('ipynb_out/Figures/Fig1_v1_costperresidue_phy.svg',format='svg', bbox_inches=\"tight\")\n",
    "\n",
    "plt.show()"
   ]
  }
 ],
 "metadata": {
  "kernelspec": {
   "display_name": "Python 3",
   "language": "python",
   "name": "python3"
  },
  "language_info": {
   "codemirror_mode": {
    "name": "ipython",
    "version": 3
   },
   "file_extension": ".py",
   "mimetype": "text/x-python",
   "name": "python",
   "nbconvert_exporter": "python",
   "pygments_lexer": "ipython3",
   "version": "3.7.3"
  }
 },
 "nbformat": 4,
 "nbformat_minor": 2
}
